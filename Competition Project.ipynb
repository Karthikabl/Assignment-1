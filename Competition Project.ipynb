{
 "cells": [
  {
   "cell_type": "code",
   "execution_count": 86,
   "id": "8cea5b8c",
   "metadata": {},
   "outputs": [
    {
     "data": {
      "text/html": [
       "<div>\n",
       "<style scoped>\n",
       "    .dataframe tbody tr th:only-of-type {\n",
       "        vertical-align: middle;\n",
       "    }\n",
       "\n",
       "    .dataframe tbody tr th {\n",
       "        vertical-align: top;\n",
       "    }\n",
       "\n",
       "    .dataframe thead th {\n",
       "        text-align: right;\n",
       "    }\n",
       "</style>\n",
       "<table border=\"1\" class=\"dataframe\">\n",
       "  <thead>\n",
       "    <tr style=\"text-align: right;\">\n",
       "      <th></th>\n",
       "      <th>age</th>\n",
       "      <th>job</th>\n",
       "      <th>marital</th>\n",
       "      <th>education</th>\n",
       "      <th>default</th>\n",
       "      <th>balance</th>\n",
       "      <th>housing</th>\n",
       "      <th>loan</th>\n",
       "      <th>contact</th>\n",
       "      <th>day</th>\n",
       "      <th>month</th>\n",
       "      <th>duration</th>\n",
       "      <th>campaign</th>\n",
       "      <th>pdays</th>\n",
       "      <th>previous</th>\n",
       "      <th>poutcome</th>\n",
       "      <th>deposit</th>\n",
       "    </tr>\n",
       "  </thead>\n",
       "  <tbody>\n",
       "    <tr>\n",
       "      <th>0</th>\n",
       "      <td>59</td>\n",
       "      <td>admin.</td>\n",
       "      <td>married</td>\n",
       "      <td>secondary</td>\n",
       "      <td>no</td>\n",
       "      <td>2343</td>\n",
       "      <td>yes</td>\n",
       "      <td>no</td>\n",
       "      <td>unknown</td>\n",
       "      <td>5</td>\n",
       "      <td>may</td>\n",
       "      <td>1042</td>\n",
       "      <td>1</td>\n",
       "      <td>-1</td>\n",
       "      <td>0</td>\n",
       "      <td>unknown</td>\n",
       "      <td>yes</td>\n",
       "    </tr>\n",
       "    <tr>\n",
       "      <th>1</th>\n",
       "      <td>56</td>\n",
       "      <td>admin.</td>\n",
       "      <td>married</td>\n",
       "      <td>secondary</td>\n",
       "      <td>no</td>\n",
       "      <td>45</td>\n",
       "      <td>no</td>\n",
       "      <td>no</td>\n",
       "      <td>unknown</td>\n",
       "      <td>5</td>\n",
       "      <td>may</td>\n",
       "      <td>1467</td>\n",
       "      <td>1</td>\n",
       "      <td>-1</td>\n",
       "      <td>0</td>\n",
       "      <td>unknown</td>\n",
       "      <td>yes</td>\n",
       "    </tr>\n",
       "    <tr>\n",
       "      <th>2</th>\n",
       "      <td>41</td>\n",
       "      <td>technician</td>\n",
       "      <td>married</td>\n",
       "      <td>secondary</td>\n",
       "      <td>no</td>\n",
       "      <td>1270</td>\n",
       "      <td>yes</td>\n",
       "      <td>no</td>\n",
       "      <td>unknown</td>\n",
       "      <td>5</td>\n",
       "      <td>may</td>\n",
       "      <td>1389</td>\n",
       "      <td>1</td>\n",
       "      <td>-1</td>\n",
       "      <td>0</td>\n",
       "      <td>unknown</td>\n",
       "      <td>yes</td>\n",
       "    </tr>\n",
       "    <tr>\n",
       "      <th>3</th>\n",
       "      <td>55</td>\n",
       "      <td>services</td>\n",
       "      <td>married</td>\n",
       "      <td>secondary</td>\n",
       "      <td>no</td>\n",
       "      <td>2476</td>\n",
       "      <td>yes</td>\n",
       "      <td>no</td>\n",
       "      <td>unknown</td>\n",
       "      <td>5</td>\n",
       "      <td>may</td>\n",
       "      <td>579</td>\n",
       "      <td>1</td>\n",
       "      <td>-1</td>\n",
       "      <td>0</td>\n",
       "      <td>unknown</td>\n",
       "      <td>yes</td>\n",
       "    </tr>\n",
       "    <tr>\n",
       "      <th>4</th>\n",
       "      <td>54</td>\n",
       "      <td>admin.</td>\n",
       "      <td>married</td>\n",
       "      <td>tertiary</td>\n",
       "      <td>no</td>\n",
       "      <td>184</td>\n",
       "      <td>no</td>\n",
       "      <td>no</td>\n",
       "      <td>unknown</td>\n",
       "      <td>5</td>\n",
       "      <td>may</td>\n",
       "      <td>673</td>\n",
       "      <td>2</td>\n",
       "      <td>-1</td>\n",
       "      <td>0</td>\n",
       "      <td>unknown</td>\n",
       "      <td>yes</td>\n",
       "    </tr>\n",
       "  </tbody>\n",
       "</table>\n",
       "</div>"
      ],
      "text/plain": [
       "   age         job  marital  education default  balance housing loan  contact  \\\n",
       "0   59      admin.  married  secondary      no     2343     yes   no  unknown   \n",
       "1   56      admin.  married  secondary      no       45      no   no  unknown   \n",
       "2   41  technician  married  secondary      no     1270     yes   no  unknown   \n",
       "3   55    services  married  secondary      no     2476     yes   no  unknown   \n",
       "4   54      admin.  married   tertiary      no      184      no   no  unknown   \n",
       "\n",
       "   day month  duration  campaign  pdays  previous poutcome deposit  \n",
       "0    5   may      1042         1     -1         0  unknown     yes  \n",
       "1    5   may      1467         1     -1         0  unknown     yes  \n",
       "2    5   may      1389         1     -1         0  unknown     yes  \n",
       "3    5   may       579         1     -1         0  unknown     yes  \n",
       "4    5   may       673         2     -1         0  unknown     yes  "
      ]
     },
     "execution_count": 86,
     "metadata": {},
     "output_type": "execute_result"
    }
   ],
   "source": [
    "# Importing libraries\n",
    "import pandas as pd \n",
    "import numpy as np\n",
    "import matplotlib.pyplot as plt\n",
    "import seaborn as sns\n",
    "import warnings\n",
    "warnings.filterwarnings('ignore')\n",
    "# Loading data\n",
    "df=pd.read_csv(\"bank.csv\")\n",
    "df.head()"
   ]
  },
  {
   "cell_type": "code",
   "execution_count": 87,
   "id": "f6f9210d",
   "metadata": {},
   "outputs": [
    {
     "data": {
      "text/plain": [
       "(11162, 17)"
      ]
     },
     "execution_count": 87,
     "metadata": {},
     "output_type": "execute_result"
    }
   ],
   "source": [
    "df.shape"
   ]
  },
  {
   "cell_type": "code",
   "execution_count": 88,
   "id": "6fe807b1",
   "metadata": {},
   "outputs": [
    {
     "name": "stdout",
     "output_type": "stream",
     "text": [
      "<class 'pandas.core.frame.DataFrame'>\n",
      "RangeIndex: 11162 entries, 0 to 11161\n",
      "Data columns (total 17 columns):\n",
      " #   Column     Non-Null Count  Dtype \n",
      "---  ------     --------------  ----- \n",
      " 0   age        11162 non-null  int64 \n",
      " 1   job        11162 non-null  object\n",
      " 2   marital    11162 non-null  object\n",
      " 3   education  11162 non-null  object\n",
      " 4   default    11162 non-null  object\n",
      " 5   balance    11162 non-null  int64 \n",
      " 6   housing    11162 non-null  object\n",
      " 7   loan       11162 non-null  object\n",
      " 8   contact    11162 non-null  object\n",
      " 9   day        11162 non-null  int64 \n",
      " 10  month      11162 non-null  object\n",
      " 11  duration   11162 non-null  int64 \n",
      " 12  campaign   11162 non-null  int64 \n",
      " 13  pdays      11162 non-null  int64 \n",
      " 14  previous   11162 non-null  int64 \n",
      " 15  poutcome   11162 non-null  object\n",
      " 16  deposit    11162 non-null  object\n",
      "dtypes: int64(7), object(10)\n",
      "memory usage: 1.4+ MB\n"
     ]
    }
   ],
   "source": [
    "df.info()"
   ]
  },
  {
   "cell_type": "code",
   "execution_count": 89,
   "id": "473864fe",
   "metadata": {},
   "outputs": [
    {
     "data": {
      "text/plain": [
       "age          0\n",
       "job          0\n",
       "marital      0\n",
       "education    0\n",
       "default      0\n",
       "balance      0\n",
       "housing      0\n",
       "loan         0\n",
       "contact      0\n",
       "day          0\n",
       "month        0\n",
       "duration     0\n",
       "campaign     0\n",
       "pdays        0\n",
       "previous     0\n",
       "poutcome     0\n",
       "deposit      0\n",
       "dtype: int64"
      ]
     },
     "execution_count": 89,
     "metadata": {},
     "output_type": "execute_result"
    }
   ],
   "source": [
    "df.isna().sum()"
   ]
  },
  {
   "cell_type": "code",
   "execution_count": 90,
   "id": "f497400a",
   "metadata": {},
   "outputs": [],
   "source": [
    "# From the result it can be seen that dataset have no missing value."
   ]
  },
  {
   "cell_type": "code",
   "execution_count": 91,
   "id": "371aa69d",
   "metadata": {},
   "outputs": [
    {
     "data": {
      "text/plain": [
       "Index(['age', 'job', 'marital', 'education', 'default', 'balance', 'housing',\n",
       "       'loan', 'contact', 'day', 'month', 'duration', 'campaign', 'pdays',\n",
       "       'previous', 'poutcome', 'deposit'],\n",
       "      dtype='object')"
      ]
     },
     "execution_count": 91,
     "metadata": {},
     "output_type": "execute_result"
    }
   ],
   "source": [
    "df.columns"
   ]
  },
  {
   "cell_type": "code",
   "execution_count": 92,
   "id": "57c7e7d9",
   "metadata": {},
   "outputs": [
    {
     "name": "stdout",
     "output_type": "stream",
     "text": [
      "Numeric Columns :  ['age', 'balance', 'day', 'duration', 'campaign', 'pdays', 'previous']\n",
      "Categorical Columns: ['job', 'marital', 'education', 'default', 'housing', 'loan', 'contact', 'month', 'poutcome', 'deposit']\n"
     ]
    }
   ],
   "source": [
    "# create list of numeric and categorical columns\n",
    "num_cols=[]\n",
    "cat_cols=[]\n",
    "for i in df.columns:\n",
    "    if df[i].dtype=='int64':\n",
    "        num_cols.append(i)\n",
    "    elif df[i].dtype=='object':\n",
    "        cat_cols.append(i)\n",
    "print(\"Numeric Columns : \", num_cols)\n",
    "print(\"Categorical Columns:\",cat_cols)"
   ]
  },
  {
   "cell_type": "code",
   "execution_count": 93,
   "id": "ad7ee804",
   "metadata": {},
   "outputs": [
    {
     "data": {
      "text/plain": [
       "age          0\n",
       "job          0\n",
       "marital      0\n",
       "education    0\n",
       "default      0\n",
       "balance      0\n",
       "housing      0\n",
       "loan         0\n",
       "contact      0\n",
       "day          0\n",
       "month        0\n",
       "campaign     0\n",
       "pdays        0\n",
       "previous     0\n",
       "poutcome     0\n",
       "deposit      0\n",
       "dtype: int64"
      ]
     },
     "execution_count": 93,
     "metadata": {},
     "output_type": "execute_result"
    }
   ],
   "source": [
    "df.drop([\"duration\"] , axis=1,inplace=True)\n",
    "df.isnull().sum()"
   ]
  },
  {
   "cell_type": "code",
   "execution_count": 94,
   "id": "d7212542",
   "metadata": {},
   "outputs": [
    {
     "data": {
      "text/plain": [
       "age             0\n",
       "job            70\n",
       "marital         0\n",
       "education     497\n",
       "default         0\n",
       "balance         0\n",
       "housing         0\n",
       "loan            0\n",
       "contact      2346\n",
       "day             0\n",
       "month           0\n",
       "campaign        0\n",
       "pdays           0\n",
       "previous        0\n",
       "poutcome     8326\n",
       "deposit         0\n",
       "dtype: int64"
      ]
     },
     "execution_count": 94,
     "metadata": {},
     "output_type": "execute_result"
    }
   ],
   "source": [
    "df.replace('unknown',np.NaN,inplace=True)\n",
    "df.isna().sum()"
   ]
  },
  {
   "cell_type": "code",
   "execution_count": 95,
   "id": "cb26e818",
   "metadata": {},
   "outputs": [],
   "source": [
    "# There is no missing value, but have unknown values in job, education,contact and poutcome."
   ]
  },
  {
   "cell_type": "code",
   "execution_count": 96,
   "id": "1bbdc541",
   "metadata": {},
   "outputs": [
    {
     "data": {
      "text/plain": [
       "array([[<AxesSubplot:title={'center':'age'}>,\n",
       "        <AxesSubplot:title={'center':'balance'}>,\n",
       "        <AxesSubplot:title={'center':'day'}>],\n",
       "       [<AxesSubplot:title={'center':'campaign'}>,\n",
       "        <AxesSubplot:title={'center':'pdays'}>,\n",
       "        <AxesSubplot:title={'center':'previous'}>],\n",
       "       [<AxesSubplot:>, <AxesSubplot:>, <AxesSubplot:>],\n",
       "       [<AxesSubplot:>, <AxesSubplot:>, <AxesSubplot:>]], dtype=object)"
      ]
     },
     "execution_count": 96,
     "metadata": {},
     "output_type": "execute_result"
    },
    {
     "data": {
      "image/png": "[encoded data removed]",
      "text/plain": [
       "<Figure size 1080x1152 with 12 Axes>"
      ]
     },
     "metadata": {
      "needs_background": "light"
     },
     "output_type": "display_data"
    }
   ],
   "source": [
    "df[df.columns].hist(bins=15, figsize=(15, 16), layout=(4, 3))"
   ]
  },
  {
   "cell_type": "code",
   "execution_count": 97,
   "id": "c2d70e64",
   "metadata": {},
   "outputs": [
    {
     "data": {
      "text/plain": [
       "<AxesSubplot:>"
      ]
     },
     "execution_count": 97,
     "metadata": {},
     "output_type": "execute_result"
    },
    {
     "data": {
      "image/png": "[encoded data removed]",
      "text/plain": [
       "<Figure size 648x432 with 2 Axes>"
      ]
     },
     "metadata": {
      "needs_background": "light"
     },
     "output_type": "display_data"
    }
   ],
   "source": [
    "# Checking correlation between the variables\n",
    "corr = df.corr()\n",
    "plt.figure(figsize=(9,6))\n",
    "sns.heatmap(corr,annot=True, cmap = \"YlGnBu\")"
   ]
  },
  {
   "cell_type": "code",
   "execution_count": 98,
   "id": "3b2e1683",
   "metadata": {},
   "outputs": [],
   "source": [
    "# From the heatmap, we can see negative values."
   ]
  },
  {
   "cell_type": "code",
   "execution_count": 99,
   "id": "5f1273fa",
   "metadata": {},
   "outputs": [
    {
     "data": {
      "text/html": [
       "<div>\n",
       "<style scoped>\n",
       "    .dataframe tbody tr th:only-of-type {\n",
       "        vertical-align: middle;\n",
       "    }\n",
       "\n",
       "    .dataframe tbody tr th {\n",
       "        vertical-align: top;\n",
       "    }\n",
       "\n",
       "    .dataframe thead th {\n",
       "        text-align: right;\n",
       "    }\n",
       "</style>\n",
       "<table border=\"1\" class=\"dataframe\">\n",
       "  <thead>\n",
       "    <tr style=\"text-align: right;\">\n",
       "      <th></th>\n",
       "      <th>age</th>\n",
       "      <th>job</th>\n",
       "      <th>marital</th>\n",
       "      <th>education</th>\n",
       "      <th>default</th>\n",
       "      <th>balance</th>\n",
       "      <th>housing</th>\n",
       "      <th>loan</th>\n",
       "      <th>contact</th>\n",
       "      <th>day</th>\n",
       "      <th>month</th>\n",
       "      <th>campaign</th>\n",
       "      <th>pdays</th>\n",
       "      <th>previous</th>\n",
       "      <th>poutcome</th>\n",
       "      <th>deposit</th>\n",
       "    </tr>\n",
       "  </thead>\n",
       "  <tbody>\n",
       "    <tr>\n",
       "      <th>0</th>\n",
       "      <td>1.491505</td>\n",
       "      <td>admin.</td>\n",
       "      <td>married</td>\n",
       "      <td>secondary</td>\n",
       "      <td>no</td>\n",
       "      <td>0.252525</td>\n",
       "      <td>yes</td>\n",
       "      <td>no</td>\n",
       "      <td>NaN</td>\n",
       "      <td>-1.265746</td>\n",
       "      <td>may</td>\n",
       "      <td>-0.554168</td>\n",
       "      <td>-0.481184</td>\n",
       "      <td>-0.36326</td>\n",
       "      <td>NaN</td>\n",
       "      <td>yes</td>\n",
       "    </tr>\n",
       "    <tr>\n",
       "      <th>1</th>\n",
       "      <td>1.239676</td>\n",
       "      <td>admin.</td>\n",
       "      <td>married</td>\n",
       "      <td>secondary</td>\n",
       "      <td>no</td>\n",
       "      <td>-0.459974</td>\n",
       "      <td>no</td>\n",
       "      <td>no</td>\n",
       "      <td>NaN</td>\n",
       "      <td>-1.265746</td>\n",
       "      <td>may</td>\n",
       "      <td>-0.554168</td>\n",
       "      <td>-0.481184</td>\n",
       "      <td>-0.36326</td>\n",
       "      <td>NaN</td>\n",
       "      <td>yes</td>\n",
       "    </tr>\n",
       "    <tr>\n",
       "      <th>2</th>\n",
       "      <td>-0.019470</td>\n",
       "      <td>technician</td>\n",
       "      <td>married</td>\n",
       "      <td>secondary</td>\n",
       "      <td>no</td>\n",
       "      <td>-0.080160</td>\n",
       "      <td>yes</td>\n",
       "      <td>no</td>\n",
       "      <td>NaN</td>\n",
       "      <td>-1.265746</td>\n",
       "      <td>may</td>\n",
       "      <td>-0.554168</td>\n",
       "      <td>-0.481184</td>\n",
       "      <td>-0.36326</td>\n",
       "      <td>NaN</td>\n",
       "      <td>yes</td>\n",
       "    </tr>\n",
       "    <tr>\n",
       "      <th>3</th>\n",
       "      <td>1.155733</td>\n",
       "      <td>services</td>\n",
       "      <td>married</td>\n",
       "      <td>secondary</td>\n",
       "      <td>no</td>\n",
       "      <td>0.293762</td>\n",
       "      <td>yes</td>\n",
       "      <td>no</td>\n",
       "      <td>NaN</td>\n",
       "      <td>-1.265746</td>\n",
       "      <td>may</td>\n",
       "      <td>-0.554168</td>\n",
       "      <td>-0.481184</td>\n",
       "      <td>-0.36326</td>\n",
       "      <td>NaN</td>\n",
       "      <td>yes</td>\n",
       "    </tr>\n",
       "    <tr>\n",
       "      <th>4</th>\n",
       "      <td>1.071790</td>\n",
       "      <td>admin.</td>\n",
       "      <td>married</td>\n",
       "      <td>tertiary</td>\n",
       "      <td>no</td>\n",
       "      <td>-0.416876</td>\n",
       "      <td>no</td>\n",
       "      <td>no</td>\n",
       "      <td>NaN</td>\n",
       "      <td>-1.265746</td>\n",
       "      <td>may</td>\n",
       "      <td>-0.186785</td>\n",
       "      <td>-0.481184</td>\n",
       "      <td>-0.36326</td>\n",
       "      <td>NaN</td>\n",
       "      <td>yes</td>\n",
       "    </tr>\n",
       "  </tbody>\n",
       "</table>\n",
       "</div>"
      ],
      "text/plain": [
       "        age         job  marital  education default   balance housing loan  \\\n",
       "0  1.491505      admin.  married  secondary      no  0.252525     yes   no   \n",
       "1  1.239676      admin.  married  secondary      no -0.459974      no   no   \n",
       "2 -0.019470  technician  married  secondary      no -0.080160     yes   no   \n",
       "3  1.155733    services  married  secondary      no  0.293762     yes   no   \n",
       "4  1.071790      admin.  married   tertiary      no -0.416876      no   no   \n",
       "\n",
       "  contact       day month  campaign     pdays  previous poutcome deposit  \n",
       "0     NaN -1.265746   may -0.554168 -0.481184  -0.36326      NaN     yes  \n",
       "1     NaN -1.265746   may -0.554168 -0.481184  -0.36326      NaN     yes  \n",
       "2     NaN -1.265746   may -0.554168 -0.481184  -0.36326      NaN     yes  \n",
       "3     NaN -1.265746   may -0.554168 -0.481184  -0.36326      NaN     yes  \n",
       "4     NaN -1.265746   may -0.186785 -0.481184  -0.36326      NaN     yes  "
      ]
     },
     "execution_count": 99,
     "metadata": {},
     "output_type": "execute_result"
    }
   ],
   "source": [
    "# Pre processing\n",
    "# Scaling numerical data to avoid outlier that can affect the model. \n",
    "# Using StandardScaler() function from sklearn, for scaling numerical data. \n",
    "from sklearn.preprocessing import StandardScaler\n",
    "df1 = df.copy()\n",
    "scaler = StandardScaler()\n",
    "num_cols = ['age', 'balance', 'day', 'campaign', 'pdays', 'previous']\n",
    "df1[num_cols] = scaler.fit_transform(df1[num_cols])\n",
    "df1.head()"
   ]
  },
  {
   "cell_type": "code",
   "execution_count": 100,
   "id": "c3e55626",
   "metadata": {},
   "outputs": [
    {
     "data": {
      "text/html": [
       "<div>\n",
       "<style scoped>\n",
       "    .dataframe tbody tr th:only-of-type {\n",
       "        vertical-align: middle;\n",
       "    }\n",
       "\n",
       "    .dataframe tbody tr th {\n",
       "        vertical-align: top;\n",
       "    }\n",
       "\n",
       "    .dataframe thead th {\n",
       "        text-align: right;\n",
       "    }\n",
       "</style>\n",
       "<table border=\"1\" class=\"dataframe\">\n",
       "  <thead>\n",
       "    <tr style=\"text-align: right;\">\n",
       "      <th></th>\n",
       "      <th>age</th>\n",
       "      <th>job</th>\n",
       "      <th>education</th>\n",
       "      <th>default</th>\n",
       "      <th>balance</th>\n",
       "      <th>housing</th>\n",
       "      <th>loan</th>\n",
       "      <th>day</th>\n",
       "      <th>month</th>\n",
       "      <th>campaign</th>\n",
       "      <th>pdays</th>\n",
       "      <th>previous</th>\n",
       "      <th>poutcome</th>\n",
       "      <th>deposit</th>\n",
       "    </tr>\n",
       "  </thead>\n",
       "  <tbody>\n",
       "    <tr>\n",
       "      <th>0</th>\n",
       "      <td>1.491505</td>\n",
       "      <td>admin.</td>\n",
       "      <td>secondary</td>\n",
       "      <td>no</td>\n",
       "      <td>0.252525</td>\n",
       "      <td>yes</td>\n",
       "      <td>no</td>\n",
       "      <td>-1.265746</td>\n",
       "      <td>may</td>\n",
       "      <td>-0.554168</td>\n",
       "      <td>-0.481184</td>\n",
       "      <td>-0.36326</td>\n",
       "      <td>NaN</td>\n",
       "      <td>yes</td>\n",
       "    </tr>\n",
       "    <tr>\n",
       "      <th>1</th>\n",
       "      <td>1.239676</td>\n",
       "      <td>admin.</td>\n",
       "      <td>secondary</td>\n",
       "      <td>no</td>\n",
       "      <td>-0.459974</td>\n",
       "      <td>no</td>\n",
       "      <td>no</td>\n",
       "      <td>-1.265746</td>\n",
       "      <td>may</td>\n",
       "      <td>-0.554168</td>\n",
       "      <td>-0.481184</td>\n",
       "      <td>-0.36326</td>\n",
       "      <td>NaN</td>\n",
       "      <td>yes</td>\n",
       "    </tr>\n",
       "    <tr>\n",
       "      <th>2</th>\n",
       "      <td>-0.019470</td>\n",
       "      <td>technician</td>\n",
       "      <td>secondary</td>\n",
       "      <td>no</td>\n",
       "      <td>-0.080160</td>\n",
       "      <td>yes</td>\n",
       "      <td>no</td>\n",
       "      <td>-1.265746</td>\n",
       "      <td>may</td>\n",
       "      <td>-0.554168</td>\n",
       "      <td>-0.481184</td>\n",
       "      <td>-0.36326</td>\n",
       "      <td>NaN</td>\n",
       "      <td>yes</td>\n",
       "    </tr>\n",
       "    <tr>\n",
       "      <th>3</th>\n",
       "      <td>1.155733</td>\n",
       "      <td>services</td>\n",
       "      <td>secondary</td>\n",
       "      <td>no</td>\n",
       "      <td>0.293762</td>\n",
       "      <td>yes</td>\n",
       "      <td>no</td>\n",
       "      <td>-1.265746</td>\n",
       "      <td>may</td>\n",
       "      <td>-0.554168</td>\n",
       "      <td>-0.481184</td>\n",
       "      <td>-0.36326</td>\n",
       "      <td>NaN</td>\n",
       "      <td>yes</td>\n",
       "    </tr>\n",
       "    <tr>\n",
       "      <th>4</th>\n",
       "      <td>1.071790</td>\n",
       "      <td>admin.</td>\n",
       "      <td>tertiary</td>\n",
       "      <td>no</td>\n",
       "      <td>-0.416876</td>\n",
       "      <td>no</td>\n",
       "      <td>no</td>\n",
       "      <td>-1.265746</td>\n",
       "      <td>may</td>\n",
       "      <td>-0.186785</td>\n",
       "      <td>-0.481184</td>\n",
       "      <td>-0.36326</td>\n",
       "      <td>NaN</td>\n",
       "      <td>yes</td>\n",
       "    </tr>\n",
       "  </tbody>\n",
       "</table>\n",
       "</div>"
      ],
      "text/plain": [
       "        age         job  education default   balance housing loan       day  \\\n",
       "0  1.491505      admin.  secondary      no  0.252525     yes   no -1.265746   \n",
       "1  1.239676      admin.  secondary      no -0.459974      no   no -1.265746   \n",
       "2 -0.019470  technician  secondary      no -0.080160     yes   no -1.265746   \n",
       "3  1.155733    services  secondary      no  0.293762     yes   no -1.265746   \n",
       "4  1.071790      admin.   tertiary      no -0.416876      no   no -1.265746   \n",
       "\n",
       "  month  campaign     pdays  previous poutcome deposit  \n",
       "0   may -0.554168 -0.481184  -0.36326      NaN     yes  \n",
       "1   may -0.554168 -0.481184  -0.36326      NaN     yes  \n",
       "2   may -0.554168 -0.481184  -0.36326      NaN     yes  \n",
       "3   may -0.554168 -0.481184  -0.36326      NaN     yes  \n",
       "4   may -0.186785 -0.481184  -0.36326      NaN     yes  "
      ]
     },
     "execution_count": 100,
     "metadata": {},
     "output_type": "execute_result"
    }
   ],
   "source": [
    "#  Dropping marital and contact columns\n",
    "df1.drop(['marital'],axis=1, inplace=True)\n",
    "df1.drop(['contact'],axis=1, inplace=True)\n",
    "df1.head()"
   ]
  },
  {
   "cell_type": "code",
   "execution_count": 101,
   "id": "bca770d6",
   "metadata": {},
   "outputs": [
    {
     "data": {
      "text/html": [
       "<div>\n",
       "<style scoped>\n",
       "    .dataframe tbody tr th:only-of-type {\n",
       "        vertical-align: middle;\n",
       "    }\n",
       "\n",
       "    .dataframe tbody tr th {\n",
       "        vertical-align: top;\n",
       "    }\n",
       "\n",
       "    .dataframe thead th {\n",
       "        text-align: right;\n",
       "    }\n",
       "</style>\n",
       "<table border=\"1\" class=\"dataframe\">\n",
       "  <thead>\n",
       "    <tr style=\"text-align: right;\">\n",
       "      <th></th>\n",
       "      <th>age</th>\n",
       "      <th>job</th>\n",
       "      <th>education</th>\n",
       "      <th>default</th>\n",
       "      <th>balance</th>\n",
       "      <th>housing</th>\n",
       "      <th>loan</th>\n",
       "      <th>day</th>\n",
       "      <th>month</th>\n",
       "      <th>campaign</th>\n",
       "      <th>pdays</th>\n",
       "      <th>previous</th>\n",
       "      <th>poutcome</th>\n",
       "      <th>deposit</th>\n",
       "    </tr>\n",
       "  </thead>\n",
       "  <tbody>\n",
       "    <tr>\n",
       "      <th>0</th>\n",
       "      <td>1.491505</td>\n",
       "      <td>admin.</td>\n",
       "      <td>secondary</td>\n",
       "      <td>0</td>\n",
       "      <td>0.252525</td>\n",
       "      <td>1</td>\n",
       "      <td>0</td>\n",
       "      <td>-1.265746</td>\n",
       "      <td>5</td>\n",
       "      <td>-0.554168</td>\n",
       "      <td>-0.481184</td>\n",
       "      <td>-0.36326</td>\n",
       "      <td>NaN</td>\n",
       "      <td>yes</td>\n",
       "    </tr>\n",
       "    <tr>\n",
       "      <th>1</th>\n",
       "      <td>1.239676</td>\n",
       "      <td>admin.</td>\n",
       "      <td>secondary</td>\n",
       "      <td>0</td>\n",
       "      <td>-0.459974</td>\n",
       "      <td>0</td>\n",
       "      <td>0</td>\n",
       "      <td>-1.265746</td>\n",
       "      <td>5</td>\n",
       "      <td>-0.554168</td>\n",
       "      <td>-0.481184</td>\n",
       "      <td>-0.36326</td>\n",
       "      <td>NaN</td>\n",
       "      <td>yes</td>\n",
       "    </tr>\n",
       "    <tr>\n",
       "      <th>2</th>\n",
       "      <td>-0.019470</td>\n",
       "      <td>technician</td>\n",
       "      <td>secondary</td>\n",
       "      <td>0</td>\n",
       "      <td>-0.080160</td>\n",
       "      <td>1</td>\n",
       "      <td>0</td>\n",
       "      <td>-1.265746</td>\n",
       "      <td>5</td>\n",
       "      <td>-0.554168</td>\n",
       "      <td>-0.481184</td>\n",
       "      <td>-0.36326</td>\n",
       "      <td>NaN</td>\n",
       "      <td>yes</td>\n",
       "    </tr>\n",
       "    <tr>\n",
       "      <th>3</th>\n",
       "      <td>1.155733</td>\n",
       "      <td>services</td>\n",
       "      <td>secondary</td>\n",
       "      <td>0</td>\n",
       "      <td>0.293762</td>\n",
       "      <td>1</td>\n",
       "      <td>0</td>\n",
       "      <td>-1.265746</td>\n",
       "      <td>5</td>\n",
       "      <td>-0.554168</td>\n",
       "      <td>-0.481184</td>\n",
       "      <td>-0.36326</td>\n",
       "      <td>NaN</td>\n",
       "      <td>yes</td>\n",
       "    </tr>\n",
       "    <tr>\n",
       "      <th>4</th>\n",
       "      <td>1.071790</td>\n",
       "      <td>admin.</td>\n",
       "      <td>tertiary</td>\n",
       "      <td>0</td>\n",
       "      <td>-0.416876</td>\n",
       "      <td>0</td>\n",
       "      <td>0</td>\n",
       "      <td>-1.265746</td>\n",
       "      <td>5</td>\n",
       "      <td>-0.186785</td>\n",
       "      <td>-0.481184</td>\n",
       "      <td>-0.36326</td>\n",
       "      <td>NaN</td>\n",
       "      <td>yes</td>\n",
       "    </tr>\n",
       "  </tbody>\n",
       "</table>\n",
       "</div>"
      ],
      "text/plain": [
       "        age         job  education default   balance housing loan       day  \\\n",
       "0  1.491505      admin.  secondary       0  0.252525       1    0 -1.265746   \n",
       "1  1.239676      admin.  secondary       0 -0.459974       0    0 -1.265746   \n",
       "2 -0.019470  technician  secondary       0 -0.080160       1    0 -1.265746   \n",
       "3  1.155733    services  secondary       0  0.293762       1    0 -1.265746   \n",
       "4  1.071790      admin.   tertiary       0 -0.416876       0    0 -1.265746   \n",
       "\n",
       "  month  campaign     pdays  previous poutcome deposit  \n",
       "0     5 -0.554168 -0.481184  -0.36326      NaN     yes  \n",
       "1     5 -0.554168 -0.481184  -0.36326      NaN     yes  \n",
       "2     5 -0.554168 -0.481184  -0.36326      NaN     yes  \n",
       "3     5 -0.554168 -0.481184  -0.36326      NaN     yes  \n",
       "4     5 -0.186785 -0.481184  -0.36326      NaN     yes  "
      ]
     },
     "execution_count": 101,
     "metadata": {},
     "output_type": "execute_result"
    }
   ],
   "source": [
    "# Changing categorical values intpo numeric values\n",
    "df1[['default','housing','loan']]=df1[['default','housing','loan']].replace([\"yes\",\"no\"],[\"1\",\"0\"])\n",
    "df1['month']=df1['month'].replace([\"jan\",\"feb\",\"mar\",\"apr\",\"may\",\"jun\",\"jul\", \"aug\",\"sep\",\"oct\",\"nov\",\"dec\"],[\"1\",\"2\",\"3\",\"4\",\"5\",\"6\",\"7\",\"8\",\"9\",\"10\",\"11\",\"12\"])\n",
    "df1['job']=df1['job'].replace(['unknown'],['other'])\n",
    "df1.head()"
   ]
  },
  {
   "cell_type": "code",
   "execution_count": 102,
   "id": "579edc7e",
   "metadata": {},
   "outputs": [
    {
     "data": {
      "text/html": [
       "<div>\n",
       "<style scoped>\n",
       "    .dataframe tbody tr th:only-of-type {\n",
       "        vertical-align: middle;\n",
       "    }\n",
       "\n",
       "    .dataframe tbody tr th {\n",
       "        vertical-align: top;\n",
       "    }\n",
       "\n",
       "    .dataframe thead th {\n",
       "        text-align: right;\n",
       "    }\n",
       "</style>\n",
       "<table border=\"1\" class=\"dataframe\">\n",
       "  <thead>\n",
       "    <tr style=\"text-align: right;\">\n",
       "      <th></th>\n",
       "      <th>age</th>\n",
       "      <th>job</th>\n",
       "      <th>education</th>\n",
       "      <th>default</th>\n",
       "      <th>balance</th>\n",
       "      <th>housing</th>\n",
       "      <th>loan</th>\n",
       "      <th>day</th>\n",
       "      <th>month</th>\n",
       "      <th>campaign</th>\n",
       "      <th>pdays</th>\n",
       "      <th>previous</th>\n",
       "      <th>poutcome</th>\n",
       "      <th>deposit</th>\n",
       "    </tr>\n",
       "  </thead>\n",
       "  <tbody>\n",
       "    <tr>\n",
       "      <th>0</th>\n",
       "      <td>1.491505</td>\n",
       "      <td>0</td>\n",
       "      <td>1</td>\n",
       "      <td>0</td>\n",
       "      <td>0.252525</td>\n",
       "      <td>1</td>\n",
       "      <td>0</td>\n",
       "      <td>-1.265746</td>\n",
       "      <td>5</td>\n",
       "      <td>-0.554168</td>\n",
       "      <td>-0.481184</td>\n",
       "      <td>-0.36326</td>\n",
       "      <td>3</td>\n",
       "      <td>yes</td>\n",
       "    </tr>\n",
       "    <tr>\n",
       "      <th>1</th>\n",
       "      <td>1.239676</td>\n",
       "      <td>0</td>\n",
       "      <td>1</td>\n",
       "      <td>0</td>\n",
       "      <td>-0.459974</td>\n",
       "      <td>0</td>\n",
       "      <td>0</td>\n",
       "      <td>-1.265746</td>\n",
       "      <td>5</td>\n",
       "      <td>-0.554168</td>\n",
       "      <td>-0.481184</td>\n",
       "      <td>-0.36326</td>\n",
       "      <td>3</td>\n",
       "      <td>yes</td>\n",
       "    </tr>\n",
       "    <tr>\n",
       "      <th>2</th>\n",
       "      <td>-0.019470</td>\n",
       "      <td>9</td>\n",
       "      <td>1</td>\n",
       "      <td>0</td>\n",
       "      <td>-0.080160</td>\n",
       "      <td>1</td>\n",
       "      <td>0</td>\n",
       "      <td>-1.265746</td>\n",
       "      <td>5</td>\n",
       "      <td>-0.554168</td>\n",
       "      <td>-0.481184</td>\n",
       "      <td>-0.36326</td>\n",
       "      <td>3</td>\n",
       "      <td>yes</td>\n",
       "    </tr>\n",
       "    <tr>\n",
       "      <th>3</th>\n",
       "      <td>1.155733</td>\n",
       "      <td>7</td>\n",
       "      <td>1</td>\n",
       "      <td>0</td>\n",
       "      <td>0.293762</td>\n",
       "      <td>1</td>\n",
       "      <td>0</td>\n",
       "      <td>-1.265746</td>\n",
       "      <td>5</td>\n",
       "      <td>-0.554168</td>\n",
       "      <td>-0.481184</td>\n",
       "      <td>-0.36326</td>\n",
       "      <td>3</td>\n",
       "      <td>yes</td>\n",
       "    </tr>\n",
       "    <tr>\n",
       "      <th>4</th>\n",
       "      <td>1.071790</td>\n",
       "      <td>0</td>\n",
       "      <td>2</td>\n",
       "      <td>0</td>\n",
       "      <td>-0.416876</td>\n",
       "      <td>0</td>\n",
       "      <td>0</td>\n",
       "      <td>-1.265746</td>\n",
       "      <td>5</td>\n",
       "      <td>-0.186785</td>\n",
       "      <td>-0.481184</td>\n",
       "      <td>-0.36326</td>\n",
       "      <td>3</td>\n",
       "      <td>yes</td>\n",
       "    </tr>\n",
       "  </tbody>\n",
       "</table>\n",
       "</div>"
      ],
      "text/plain": [
       "        age  job  education default   balance housing loan       day month  \\\n",
       "0  1.491505    0          1       0  0.252525       1    0 -1.265746     5   \n",
       "1  1.239676    0          1       0 -0.459974       0    0 -1.265746     5   \n",
       "2 -0.019470    9          1       0 -0.080160       1    0 -1.265746     5   \n",
       "3  1.155733    7          1       0  0.293762       1    0 -1.265746     5   \n",
       "4  1.071790    0          2       0 -0.416876       0    0 -1.265746     5   \n",
       "\n",
       "   campaign     pdays  previous  poutcome deposit  \n",
       "0 -0.554168 -0.481184  -0.36326         3     yes  \n",
       "1 -0.554168 -0.481184  -0.36326         3     yes  \n",
       "2 -0.554168 -0.481184  -0.36326         3     yes  \n",
       "3 -0.554168 -0.481184  -0.36326         3     yes  \n",
       "4 -0.186785 -0.481184  -0.36326         3     yes  "
      ]
     },
     "execution_count": 102,
     "metadata": {},
     "output_type": "execute_result"
    }
   ],
   "source": [
    "from sklearn.preprocessing import LabelEncoder\n",
    "le=LabelEncoder()\n",
    "df1['job']=le.fit_transform(df['job'])\n",
    "df1['education']=le.fit_transform(df['education'])\n",
    "df1['poutcome']=le.fit_transform(df['poutcome'])\n",
    "df1.head()"
   ]
  },
  {
   "cell_type": "code",
   "execution_count": 112,
   "id": "0c068c60",
   "metadata": {},
   "outputs": [
    {
     "data": {
      "image/png": "[encoded data removed]",
      "text/plain": [
       "<Figure size 432x432 with 1 Axes>"
      ]
     },
     "metadata": {
      "needs_background": "light"
     },
     "output_type": "display_data"
    },
    {
     "data": {
      "image/png": "[encoded data removed]",
      "text/plain": [
       "<Figure size 432x432 with 1 Axes>"
      ]
     },
     "metadata": {
      "needs_background": "light"
     },
     "output_type": "display_data"
    },
    {
     "data": {
      "image/png": "[encoded data removed]",
      "text/plain": [
       "<Figure size 432x432 with 1 Axes>"
      ]
     },
     "metadata": {
      "needs_background": "light"
     },
     "output_type": "display_data"
    },
    {
     "data": {
      "image/png": "[encoded data removed]",
      "text/plain": [
       "<Figure size 432x432 with 1 Axes>"
      ]
     },
     "metadata": {
      "needs_background": "light"
     },
     "output_type": "display_data"
    },
    {
     "data": {
      "image/png": "[encoded data removed]",
      "text/plain": [
       "<Figure size 432x432 with 1 Axes>"
      ]
     },
     "metadata": {
      "needs_background": "light"
     },
     "output_type": "display_data"
    },
    {
     "data": {
      "image/png": "[encoded data removed]",
      "text/plain": [
       "<Figure size 432x432 with 1 Axes>"
      ]
     },
     "metadata": {
      "needs_background": "light"
     },
     "output_type": "display_data"
    }
   ],
   "source": [
    "# Outliers\n",
    "col=df1[['age','balance','day','campaign','pdays','previous']]\n",
    "for i in col:\n",
    "  n=1\n",
    "  plt.figure(figsize=(6,6))\n",
    "  plt.subplot(2,1,2)\n",
    "  sns.boxplot(df[i])\n",
    "  plt.title(i)\n",
    "  plt.show()\n",
    "  n=n+1"
   ]
  },
  {
   "cell_type": "code",
   "execution_count": 105,
   "id": "6aa5bb5b",
   "metadata": {},
   "outputs": [
    {
     "name": "stdout",
     "output_type": "stream",
     "text": [
      "            age   balance  campaign     pdays  previous\n",
      "0      1.491505  0.252525  0.554168  0.481184  0.363260\n",
      "1      1.239676  0.459974  0.554168  0.481184  0.363260\n",
      "2      0.019470  0.080160  0.554168  0.481184  0.363260\n",
      "3      1.155733  0.293762  0.554168  0.481184  0.363260\n",
      "4      1.071790  0.416876  0.186785  0.481184  0.363260\n",
      "...         ...       ...       ...       ...       ...\n",
      "11157  0.691015  0.473616  0.554168  0.481184  0.363260\n",
      "11158  0.187357  0.246658  0.547981  0.481184  0.363260\n",
      "11159  0.774958  0.464934  0.186785  0.481184  0.363260\n",
      "11160  0.148416  0.473926  0.186785  1.109571  1.818332\n",
      "11161  0.607072  0.473926  0.554168  0.481184  0.363260\n",
      "\n",
      "[11162 rows x 5 columns]\n"
     ]
    },
    {
     "data": {
      "text/plain": [
       "(10285, 14)"
      ]
     },
     "execution_count": 105,
     "metadata": {},
     "output_type": "execute_result"
    }
   ],
   "source": [
    "# Removing outliers\n",
    "from scipy import stats\n",
    "z = np.abs(stats.zscore(df1[['age','balance','campaign','pdays','previous']]))\n",
    "print(z)\n",
    "df1=df1[(z<3).all(axis=1)]\n",
    "df1.shape"
   ]
  },
  {
   "cell_type": "code",
   "execution_count": 121,
   "id": "c9fab96c",
   "metadata": {},
   "outputs": [
    {
     "data": {
      "image/png": "[encoded data removed]",
      "text/plain": [
       "<Figure size 288x288 with 1 Axes>"
      ]
     },
     "metadata": {
      "needs_background": "light"
     },
     "output_type": "display_data"
    }
   ],
   "source": [
    "#checking outliers removed \n",
    "plt.figure(figsize=(4,4))\n",
    "plt.subplot(2,1,2)\n",
    "sns.boxplot(df1['age'])\n",
    "plt.title(\"Age\")\n",
    "plt.show()"
   ]
  },
  {
   "cell_type": "code",
   "execution_count": 122,
   "id": "754374ba",
   "metadata": {},
   "outputs": [
    {
     "data": {
      "image/png": "[encoded data removed]",
      "text/plain": [
       "<Figure size 288x288 with 1 Axes>"
      ]
     },
     "metadata": {
      "needs_background": "light"
     },
     "output_type": "display_data"
    }
   ],
   "source": [
    "plt.figure(figsize=(4,4))\n",
    "plt.subplot(2,1,2)\n",
    "sns.boxplot(df1['campaign'])\n",
    "plt.title(\"Campaign\")\n",
    "plt.show()"
   ]
  },
  {
   "cell_type": "code",
   "execution_count": 131,
   "id": "efb00179",
   "metadata": {},
   "outputs": [
    {
     "name": "stdout",
     "output_type": "stream",
     "text": [
      "Training feature shape: (8228, 13)\n",
      "Testing feature shape: (2057, 13)\n",
      "Training label shape: (8228,)\n",
      "Training label shape: (2057,)\n"
     ]
    }
   ],
   "source": [
    "# Train and Test split\n",
    "# Using scikit learn’s train_test_split method \n",
    "# Select Features\n",
    "feature = df1.drop('deposit', axis=1)\n",
    "# Select Target\n",
    "target = df1['deposit']\n",
    "\n",
    "# Set Training and Testing Data\n",
    "from sklearn.model_selection import train_test_split\n",
    "x_train, x_test, y_train, y_test = train_test_split(feature , target, test_size=0.2, random_state=1) #80/20 split\n",
    "print('Training feature shape:', x_train.shape)\n",
    "print('Testing feature shape:', x_test.shape)\n",
    "print('Training label shape:', y_train.shape)\n",
    "print('Training label shape:', y_test.shape)\n",
    "\n",
    "#feature scaling\n",
    "from sklearn.preprocessing import StandardScaler\n",
    "scaler=StandardScaler()\n",
    "x_train=scaler.fit_transform(x_train)\n",
    "x_test=scaler.transform(x_test)"
   ]
  },
  {
   "cell_type": "code",
   "execution_count": null,
   "id": "32163bdd",
   "metadata": {},
   "outputs": [],
   "source": [
    "# Training the model with differrnt algorithms"
   ]
  },
  {
   "cell_type": "code",
   "execution_count": 153,
   "id": "22b5178b",
   "metadata": {},
   "outputs": [],
   "source": [
    "# Logistic Regression\n",
    "from sklearn.linear_model import LogisticRegression\n",
    "log_model=LogisticRegression()\n",
    "log_model.fit(x_train,y_train)\n",
    "y_pred=log_model.predict(x_test)\n",
    "\n",
    "from sklearn.metrics import confusion_matrix,accuracy_score,precision_score,recall_score,f1_score"
   ]
  },
  {
   "cell_type": "code",
   "execution_count": 154,
   "id": "ef2a5c20",
   "metadata": {},
   "outputs": [
    {
     "name": "stdout",
     "output_type": "stream",
     "text": [
      "Accuracy : 0.6456003889158969\n",
      "Precision score : 0.6466045109533489\n",
      "Recall_score : 0.64144536149669\n",
      "f1 score : 0.6404581640685221\n"
     ]
    }
   ],
   "source": [
    "acc_lr = accuracy_score(y_test,y_pred)\n",
    "recall_lr= recall_score(y_test,y_pred,average='macro')\n",
    "precision_lr = precision_score(y_test,y_pred,average='macro')\n",
    "f1score_lr = f1_score(y_test,y_pred,average='macro')\n",
    "print(\"Accuracy :\",acc_lr)\n",
    "print(\"Precision score :\",precision_lr)\n",
    "print(\"Recall_score :\",recall_lr)\n",
    "print('f1 score :',f1score_lr)"
   ]
  },
  {
   "cell_type": "code",
   "execution_count": 155,
   "id": "bae78bf8",
   "metadata": {},
   "outputs": [
    {
     "data": {
      "text/plain": [
       "array([[787, 289],\n",
       "       [440, 541]], dtype=int64)"
      ]
     },
     "execution_count": 155,
     "metadata": {},
     "output_type": "execute_result"
    }
   ],
   "source": [
    "confusion_matrix(y_test,y_pred)"
   ]
  },
  {
   "cell_type": "code",
   "execution_count": 156,
   "id": "ddc5db7c",
   "metadata": {},
   "outputs": [],
   "source": [
    "# KNN\n",
    "from sklearn.neighbors import KNeighborsClassifier\n",
    "acc_values=[]\n",
    "neighbors=np.arange(3,15)\n",
    "for k in neighbors:\n",
    "    classifier=KNeighborsClassifier(n_neighbors=k,metric='minkowski')\n",
    "    classifier.fit(x_train,y_train)\n",
    "    y_pred=classifier.predict(x_test)\n",
    "    acc=accuracy_score(y_test,y_pred)\n",
    "    acc_values.append(acc)"
   ]
  },
  {
   "cell_type": "code",
   "execution_count": 157,
   "id": "4d70e6e3",
   "metadata": {},
   "outputs": [
    {
     "data": {
      "text/plain": [
       "Text(0, 0.5, 'Accuracy')"
      ]
     },
     "execution_count": 157,
     "metadata": {},
     "output_type": "execute_result"
    },
    {
     "data": {
      "image/png": "[encoded data removed]",
      "text/plain": [
       "<Figure size 360x288 with 1 Axes>"
      ]
     },
     "metadata": {
      "needs_background": "light"
     },
     "output_type": "display_data"
    }
   ],
   "source": [
    "plt.figure(figsize=(5,4))\n",
    "plt.plot(neighbors,acc_values,'o-',color='teal')\n",
    "plt.xlabel('k value')\n",
    "plt.ylabel('Accuracy')"
   ]
  },
  {
   "cell_type": "code",
   "execution_count": 158,
   "id": "49b980cc",
   "metadata": {},
   "outputs": [],
   "source": [
    "# Taking k=5\n",
    "classifier=KNeighborsClassifier(n_neighbors=5,metric='minkowski')\n",
    "classifier.fit(x_train,y_train)\n",
    "y_pred=classifier.predict(x_test)"
   ]
  },
  {
   "cell_type": "code",
   "execution_count": 159,
   "id": "9fee0a5d",
   "metadata": {},
   "outputs": [
    {
     "name": "stdout",
     "output_type": "stream",
     "text": [
      "Accuracy : 0.6475449684005834\n",
      "Precision score : 0.6491404781090518\n",
      "Recall_score : 0.6430790976509062\n",
      "f1 score : 0.6418225935951853\n"
     ]
    }
   ],
   "source": [
    "acc_knn = accuracy_score(y_test,y_pred)\n",
    "recall_knn= recall_score(y_test,y_pred,average='macro')\n",
    "precision_knn = precision_score(y_test,y_pred,average='macro')\n",
    "f1score_knn = f1_score(y_test,y_pred,average='macro')\n",
    "print(\"Accuracy :\",acc_knn)\n",
    "print(\"Precision score :\",precision_knn)\n",
    "print(\"Recall_score :\",recall_knn)\n",
    "print('f1 score :',f1score_knn)"
   ]
  },
  {
   "cell_type": "code",
   "execution_count": 160,
   "id": "ae56035e",
   "metadata": {},
   "outputs": [
    {
     "data": {
      "text/plain": [
       "array([[796, 280],\n",
       "       [445, 536]], dtype=int64)"
      ]
     },
     "execution_count": 160,
     "metadata": {},
     "output_type": "execute_result"
    }
   ],
   "source": [
    "confusion_matrix(y_test,y_pred)"
   ]
  },
  {
   "cell_type": "code",
   "execution_count": 161,
   "id": "26962fee",
   "metadata": {},
   "outputs": [
    {
     "data": {
      "text/plain": [
       "no     1076\n",
       "yes     981\n",
       "Name: deposit, dtype: int64"
      ]
     },
     "execution_count": 161,
     "metadata": {},
     "output_type": "execute_result"
    }
   ],
   "source": [
    "y_test.value_counts()"
   ]
  },
  {
   "cell_type": "code",
   "execution_count": 162,
   "id": "ab439636",
   "metadata": {},
   "outputs": [],
   "source": [
    "# Random Forest Classifier\n",
    "from sklearn.ensemble import RandomForestClassifier\n",
    "rf=RandomForestClassifier()\n",
    "rf.fit(x_train,y_train)\n",
    "y_pred=rf.predict(x_test)"
   ]
  },
  {
   "cell_type": "code",
   "execution_count": 163,
   "id": "a1faaa0a",
   "metadata": {},
   "outputs": [
    {
     "name": "stdout",
     "output_type": "stream",
     "text": [
      "Accuracy : 0.7073407875546913\n",
      "Precision score : 0.7137009875036269\n",
      "Recall_score : 0.7023502305893765\n",
      "f1 score : 0.7014476359105515\n"
     ]
    }
   ],
   "source": [
    "acc_rf = accuracy_score(y_test,y_pred)\n",
    "recall_rf= recall_score(y_test,y_pred,average='macro')\n",
    "precision_rf = precision_score(y_test,y_pred,average='macro')\n",
    "f1score_rf = f1_score(y_test,y_pred,average='macro')\n",
    "print(\"Accuracy :\",acc_rf)\n",
    "print(\"Precision score :\",precision_rf)\n",
    "print(\"Recall_score :\",recall_rf)\n",
    "print('f1 score :',f1score_rf)"
   ]
  },
  {
   "cell_type": "code",
   "execution_count": 165,
   "id": "9c9801ba",
   "metadata": {},
   "outputs": [
    {
     "data": {
      "text/plain": [
       "array([[872, 204],\n",
       "       [398, 583]], dtype=int64)"
      ]
     },
     "execution_count": 165,
     "metadata": {},
     "output_type": "execute_result"
    }
   ],
   "source": [
    "confusion_matrix(y_test,y_pred)"
   ]
  },
  {
   "cell_type": "code",
   "execution_count": 166,
   "id": "3089ef3b",
   "metadata": {},
   "outputs": [],
   "source": [
    "# Fine tuning of Hyper parameters\n",
    "rft=RandomForestClassifier(n_estimators=200,max_depth=10,random_state=42,criterion='entropy')\n",
    "rft.fit(x_train,y_train)\n",
    "y_pred=rft.predict(x_test)"
   ]
  },
  {
   "cell_type": "code",
   "execution_count": 168,
   "id": "41540eed",
   "metadata": {},
   "outputs": [
    {
     "name": "stdout",
     "output_type": "stream",
     "text": [
      "Accuracy : 0.7131745260087506\n",
      "Precision score : 0.7349163809284361\n",
      "Recall_score : 0.7053614398478147\n",
      "f1 score : 0.7010044779237571\n"
     ]
    }
   ],
   "source": [
    "acc_rf = accuracy_score(y_test,y_pred)\n",
    "recall_rf= recall_score(y_test,y_pred,average='macro')\n",
    "precision_rf = precision_score(y_test,y_pred,average='macro')\n",
    "f1score_rf = f1_score(y_test,y_pred,average='macro')\n",
    "print(\"Accuracy :\",acc_rf)\n",
    "print(\"Precision score :\",precision_rf)\n",
    "print(\"Recall_score :\",recall_rf)\n",
    "print('f1 score :',f1score_rf)"
   ]
  },
  {
   "cell_type": "code",
   "execution_count": 171,
   "id": "6d07b2bd",
   "metadata": {},
   "outputs": [
    {
     "name": "stdout",
     "output_type": "stream",
     "text": [
      "Best Model is : \n",
      "                      Accuracy    Recall  Precision  f1 score\n",
      "Logistic regression  0.645600  0.641445   0.646605  0.640458\n",
      "Random forest        0.713175  0.705361   0.734916  0.701004\n",
      "KNN                  0.647545  0.643079   0.649140  0.641823\n"
     ]
    }
   ],
   "source": [
    "# Finding best model\n",
    "ind=['Logistic regression','Random forest','KNN']\n",
    "data={\"Accuracy\":[acc_lr,acc_rf,acc_knn],\"Recall\":[recall_lr,recall_rf,recall_knn],\"Precision\":[precision_lr,precision_rf,precision_knn],\n",
    "    'f1 score':[f1score_lr,f1score_rf,f1score_knn]}\n",
    "Result=pd.DataFrame(data=data,index=ind)\n",
    "print('Best Model is : \\n',Result)"
   ]
  },
  {
   "cell_type": "code",
   "execution_count": null,
   "id": "1c049b80",
   "metadata": {},
   "outputs": [],
   "source": [
    "# From the comparison, we can see that Random Forest model tops from other models in 4 metrics evaluated. "
   ]
  },
  {
   "cell_type": "code",
   "execution_count": null,
   "id": "c9aeb9d6",
   "metadata": {},
   "outputs": [],
   "source": []
  }
 ],
 "metadata": {
  "kernelspec": {
   "display_name": "Python 3 (ipykernel)",
   "language": "python",
   "name": "python3"
  },
  "language_info": {
   "codemirror_mode": {
    "name": "ipython",
    "version": 3
   },
   "file_extension": ".py",
   "mimetype": "text/x-python",
   "name": "python",
   "nbconvert_exporter": "python",
   "pygments_lexer": "ipython3",
   "version": "3.9.7"
  }
 },
 "nbformat": 4,
 "nbformat_minor": 5
}
